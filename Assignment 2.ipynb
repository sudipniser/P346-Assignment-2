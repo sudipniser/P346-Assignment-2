{
    "cells": [
        {
            "cell_type": "code",
            "execution_count": 62,
            "source": [
                "class Matrix:\r\n",
                "    def __init__(self,list_of_lists):\r\n",
                "        for i in range(len(list_of_lists)):\r\n",
                "            if len(list_of_lists[i]) != len(list_of_lists[0]):\r\n",
                "                print(\"undefined matrix\")\r\n",
                "        self.lol=list_of_lists\r\n",
                "    def show(self):\r\n",
                "        for i in self.lol:\r\n",
                "            for j in i:\r\n",
                "                print(str(j)+str(','),end='')\r\n",
                "            print(\"\\n\")\r\n",
                "    def Transpose(self):\r\n",
                "        C=[]\r\n",
                "        for _ in range(len(self.lol[0])):\r\n",
                "            C+=[[]]\r\n",
                "        for i in range(len(self.lol)):\r\n",
                "            for j in range(len(self.lol[i])):\r\n",
                "                C[j].append(self.lol[i][j])\r\n",
                "        return(Matrix(C))\r\n",
                "def Mat_product(X,Y,show=True):\r\n",
                "    if isinstance(X,Matrix) == True and isinstance(Y,Matrix) ==True:\r\n",
                "        if len(X.lol[0])!=len(Y.lol):\r\n",
                "            print('Product not defined')\r\n",
                "        else:\r\n",
                "            m=len(X.lol)\r\n",
                "            n=len(Y.lol[0])\r\n",
                "            Z=[]\r\n",
                "            for _ in range(m):\r\n",
                "                Z+=[[]]\r\n",
                "            for i in range(len(X.lol)):\r\n",
                "                temp=0\r\n",
                "                for l in range(len(Y.lol[0])):\r\n",
                "                    for j in range(len(X.lol[i])):\r\n",
                "                        temp+=X.lol[i][j]*Y.lol[j][l]\r\n",
                "                    Z[i].append(temp)\r\n",
                "                    temp=0\r\n",
                "            if show==True:\r\n",
                "                Matrix(Z).show()\r\n",
                "            return(Matrix(Z))\r\n",
                "    else:\r\n",
                "        print(\"Not a matrix\")"
            ],
            "outputs": [],
            "metadata": {}
        },
        {
            "cell_type": "code",
            "execution_count": 63,
            "source": [
                "f=open(\"A.txt\",\"r\")\r\n",
                "for i in f:\r\n",
                "    print(i)"
            ],
            "outputs": [
                {
                    "output_type": "stream",
                    "name": "stdout",
                    "text": [
                        "2,3,4\n",
                        "\n",
                        "1,0,0,\n"
                    ]
                }
            ],
            "metadata": {}
        },
        {
            "cell_type": "code",
            "execution_count": 64,
            "source": [
                "def read_matrix(file_name):\r\n",
                "    file=open(str(file_name),\"r\")\r\n",
                "    M=[[]]\r\n",
                "    temp=''\r\n",
                "    i=0\r\n",
                "    for j in file:\r\n",
                "        for k in j:\r\n",
                "            if k=='\\n':\r\n",
                "                M[i]+=[int(temp)]\r\n",
                "                temp=''\r\n",
                "                i+=1\r\n",
                "                M+=[[]]\r\n",
                "            elif k!=',' and k!='\\n':\r\n",
                "                temp+=k\r\n",
                "            elif k==',':\r\n",
                "                M[i]+=[int(temp)]\r\n",
                "                temp=''\r\n",
                "    return(M)\r\n",
                "    "
            ],
            "outputs": [],
            "metadata": {}
        },
        {
            "cell_type": "code",
            "execution_count": 65,
            "source": [
                "'''\r\n",
                "def rd_matrx(file_name):\r\n",
                "    from csv import reader\r\n",
                "    with open(str(file_name), 'r') as read_obj:\r\n",
                "        csv_reader = reader(read_obj)\r\n",
                "        list_of_rows = list(csv_reader)\r\n",
                "        return(list_of_rows)\r\n",
                "'''"
            ],
            "outputs": [
                {
                    "output_type": "execute_result",
                    "data": {
                        "text/plain": [
                            "\"\\ndef rd_matrx(file_name):\\n    from csv import reader\\n    with open(str(file_name), 'r') as read_obj:\\n        csv_reader = reader(read_obj)\\n        list_of_rows = list(csv_reader)\\n        return(list_of_rows)\\n\""
                        ]
                    },
                    "metadata": {},
                    "execution_count": 65
                }
            ],
            "metadata": {}
        },
        {
            "cell_type": "code",
            "execution_count": 66,
            "source": [
                "read_matrix('A.txt')"
            ],
            "outputs": [
                {
                    "output_type": "execute_result",
                    "data": {
                        "text/plain": [
                            "[[2, 3, 4], [1, 0, 0]]"
                        ]
                    },
                    "metadata": {},
                    "execution_count": 66
                }
            ],
            "metadata": {}
        },
        {
            "cell_type": "code",
            "execution_count": 67,
            "source": [
                "read_matrix('B.txt')"
            ],
            "outputs": [
                {
                    "output_type": "execute_result",
                    "data": {
                        "text/plain": [
                            "[[0, 1000], [1, 100], [0, 10]]"
                        ]
                    },
                    "metadata": {},
                    "execution_count": 67
                }
            ],
            "metadata": {}
        },
        {
            "cell_type": "code",
            "execution_count": 68,
            "source": [
                "a=Matrix(read_matrix('A.txt'))\r\n",
                "b=Matrix(read_matrix('B.txt'))"
            ],
            "outputs": [],
            "metadata": {}
        },
        {
            "cell_type": "code",
            "execution_count": 69,
            "source": [
                "a.show()"
            ],
            "outputs": [
                {
                    "output_type": "stream",
                    "name": "stdout",
                    "text": [
                        "2,3,4,\n",
                        "\n",
                        "1,0,0,\n",
                        "\n"
                    ]
                }
            ],
            "metadata": {}
        },
        {
            "cell_type": "code",
            "execution_count": 70,
            "source": [
                "b.show()"
            ],
            "outputs": [
                {
                    "output_type": "stream",
                    "name": "stdout",
                    "text": [
                        "0,1000,\n",
                        "\n",
                        "1,100,\n",
                        "\n",
                        "0,10,\n",
                        "\n"
                    ]
                }
            ],
            "metadata": {}
        },
        {
            "cell_type": "code",
            "execution_count": 71,
            "source": [
                "c=Matrix([[ 0,  1,  2,  3,  4],\r\n",
                "       [ 5,  6,  7,  8,  9],\r\n",
                "       [10, 11, 12, 13, 14],\r\n",
                "       [15, 16, 17, 18, 19],\r\n",
                "       [20, 21, 22, 23, 24]])\r\n",
                "d=Matrix([[1],[2],[3],[4],[6]])"
            ],
            "outputs": [],
            "metadata": {}
        },
        {
            "cell_type": "code",
            "execution_count": 72,
            "source": [
                "Mat_product(c,d)"
            ],
            "outputs": [
                {
                    "output_type": "stream",
                    "name": "stdout",
                    "text": [
                        "44,\n",
                        "\n",
                        "124,\n",
                        "\n",
                        "204,\n",
                        "\n",
                        "284,\n",
                        "\n",
                        "364,\n",
                        "\n"
                    ]
                },
                {
                    "output_type": "execute_result",
                    "data": {
                        "text/plain": [
                            "<__main__.Matrix at 0x193e86bd640>"
                        ]
                    },
                    "metadata": {},
                    "execution_count": 72
                }
            ],
            "metadata": {}
        },
        {
            "cell_type": "code",
            "execution_count": 73,
            "source": [
                "c.Transpose().show()"
            ],
            "outputs": [
                {
                    "output_type": "stream",
                    "name": "stdout",
                    "text": [
                        "0,5,10,15,20,\n",
                        "\n",
                        "1,6,11,16,21,\n",
                        "\n",
                        "2,7,12,17,22,\n",
                        "\n",
                        "3,8,13,18,23,\n",
                        "\n",
                        "4,9,14,19,24,\n",
                        "\n"
                    ]
                }
            ],
            "metadata": {}
        },
        {
            "cell_type": "code",
            "execution_count": 74,
            "source": [
                "b.Transpose()"
            ],
            "outputs": [
                {
                    "output_type": "execute_result",
                    "data": {
                        "text/plain": [
                            "<__main__.Matrix at 0x193e6a3cc70>"
                        ]
                    },
                    "metadata": {},
                    "execution_count": 74
                }
            ],
            "metadata": {}
        },
        {
            "cell_type": "code",
            "execution_count": 75,
            "source": [
                "Mat_product(a,b)"
            ],
            "outputs": [
                {
                    "output_type": "stream",
                    "name": "stdout",
                    "text": [
                        "3,2340,\n",
                        "\n",
                        "0,1000,\n",
                        "\n"
                    ]
                },
                {
                    "output_type": "execute_result",
                    "data": {
                        "text/plain": [
                            "<__main__.Matrix at 0x193e6a3c880>"
                        ]
                    },
                    "metadata": {},
                    "execution_count": 75
                }
            ],
            "metadata": {}
        },
        {
            "cell_type": "code",
            "execution_count": 76,
            "source": [
                "class myComplex:\r\n",
                "    def __init__(self,x,y):\r\n",
                "        self.real=x\r\n",
                "        self.imaginary=y\r\n",
                "    def conjugate(self):\r\n",
                "        return(myComplex(self.real,-self.imaginary))\r\n",
                "    def modulus(self):\r\n",
                "        return((self.real**2+self.imaginary**2)**(1/2))\r\n",
                "    def phase(self):\r\n",
                "        import math\r\n",
                "        theta=math.atan(abs(self.imaginary/self.real))\r\n",
                "        if self.real>0 and self.imaginary>0:\r\n",
                "            return(theta)\r\n",
                "        elif self.real<0 and self.imaginary>0:\r\n",
                "            return(math.pi-theta)\r\n",
                "        elif self.real>0 and self.imaginary<0:\r\n",
                "            return(-theta)\r\n",
                "        elif self.real<0 and self.imaginary<0:\r\n",
                "            return(theta-math.pi)\r\n",
                "    def show(self):\r\n",
                "        print('('+str(self.real)+')'+'+'+'('+str(self.imaginary)+')i')\r\n",
                "def comp_product(c1,c2):\r\n",
                "    if isinstance(c1,myComplex)==True and isinstance(c2,myComplex)==True:\r\n",
                "        return(myComplex(c1.real*c2.real-c1.imaginary*c2.imaginary,c1.real*c2.imaginary+c2.real*c1.imaginary))\r\n",
                "    else:\r\n",
                "        print(\"Both inputs must be complex\")\r\n",
                "def comp_sum(c1,c2):\r\n",
                "    if isinstance(c1,myComplex)==True and isinstance(c2,myComplex)==True:\r\n",
                "        return(myComplex(c1.real+c2.real,c1.imaginary+c2.imaginary))\r\n",
                "    else:\r\n",
                "        print(\"Both inputs must be complex\")\r\n",
                "def comp_div(c1,c2):\r\n",
                "    if isinstance(c1,myComplex)==True and isinstance(c2,myComplex)==True:\r\n",
                "        return(myComplex(comp_product(c1,c2.conjugate()).real/(c2.modulus())**2,comp_product(c1,c2.conjugate()).imaginary/(c2.modulus())**2))\r\n",
                "    else:\r\n",
                "        print(\"Both inputs must be complex\")"
            ],
            "outputs": [],
            "metadata": {}
        },
        {
            "cell_type": "code",
            "execution_count": 77,
            "source": [
                "z1=myComplex(1,-2)\r\n",
                "z2=myComplex(2,3)"
            ],
            "outputs": [],
            "metadata": {}
        },
        {
            "cell_type": "code",
            "execution_count": 78,
            "source": [
                "comp_div(z1,z2).show()"
            ],
            "outputs": [
                {
                    "output_type": "stream",
                    "name": "stdout",
                    "text": [
                        "(-0.3076923076923077)+(-0.5384615384615385)i\n"
                    ]
                }
            ],
            "metadata": {}
        },
        {
            "cell_type": "code",
            "execution_count": 79,
            "source": [
                "comp_product(z1,z2).show()"
            ],
            "outputs": [
                {
                    "output_type": "stream",
                    "name": "stdout",
                    "text": [
                        "(8)+(-1)i\n"
                    ]
                }
            ],
            "metadata": {}
        },
        {
            "cell_type": "code",
            "execution_count": 80,
            "source": [
                "comp_sum(z1,z2).show()"
            ],
            "outputs": [
                {
                    "output_type": "stream",
                    "name": "stdout",
                    "text": [
                        "(3)+(1)i\n"
                    ]
                }
            ],
            "metadata": {}
        },
        {
            "cell_type": "code",
            "execution_count": 81,
            "source": [
                "def av_dist(N):\r\n",
                "    m=0\r\n",
                "    dist_sum=0\r\n",
                "    for i in range(N):\r\n",
                "        for j in range(N):\r\n",
                "            m+=1\r\n",
                "            dist_sum+=abs(j-i)\r\n",
                "    return(dist_sum/(m))\r\n"
            ],
            "outputs": [],
            "metadata": {}
        },
        {
            "cell_type": "code",
            "execution_count": 61,
            "source": [
                "av_dist(5)"
            ],
            "outputs": [
                {
                    "output_type": "execute_result",
                    "data": {
                        "text/plain": [
                            "1.6"
                        ]
                    },
                    "metadata": {},
                    "execution_count": 61
                }
            ],
            "metadata": {}
        },
        {
            "cell_type": "code",
            "execution_count": 52,
            "source": [
                "def letter_search(letter,string):\r\n",
                "    indices=[]\r\n",
                "    for i in range(len(string)):\r\n",
                "        if string[i].lower() == letter.lower():\r\n",
                "            indices.append(i)\r\n",
                "    return(indices)"
            ],
            "outputs": [],
            "metadata": {}
        },
        {
            "cell_type": "code",
            "execution_count": 53,
            "source": [
                "def play_Hangman():\r\n",
                "    Names=['Aarav','Mohammed','Vihaan','Aditya','Sai','Arjun','Aryan','Reyansh','Vivaan','Krishna','Atharv','Ayaan','Ishaan','Dhruv','Ryan','Arnav','Shaurya','Kabir','Aarush','Rudra','Ayush','Advik','Ansh','Sathvik']\r\n",
                "    import random\r\n",
                "    n=random.randint(0,23)\r\n",
                "    guess_lft=int(len(Names[n])*2/5)\r\n",
                "    print(\"Welcome to Hangman: 2021\")\r\n",
                "    unK=\"?\"*len(Names[n])\r\n",
                "    print(\"Your word is: \"+unK)\r\n",
                "    print(\"You can make at most \"+str(guess_lft)+\" wrong guesses\")\r\n",
                "    while True:\r\n",
                "        #print(\"Guesses left: \"+str(guess_lft))\r\n",
                "        let=input('Guess a letter of the name: ')\r\n",
                "        if len(let)==1:\r\n",
                "            indices=letter_search(let,Names[n])\r\n",
                "            if len(indices)>0:\r\n",
                "                for i in indices:\r\n",
                "                    unK=unK[:i]+let+unK[i+1:]\r\n",
                "                print(\"Correct guess! The word is: \"+unK+\"\\t\\twrong guesses left: \"+str(guess_lft))\r\n",
                "                if len(letter_search('?',unK)) ==0:\r\n",
                "                    print(\"Congratulations, You won!\")\r\n",
                "                    break\r\n",
                "            else:\r\n",
                "                guess_lft=guess_lft-1\r\n",
                "                if guess_lft==0:\r\n",
                "                    print(\"You lost! the correct word is \"+Names[n])\r\n",
                "                    break\r\n",
                "                print(\"Wrong guess! The word is: \"+unK+\"\\t\\t\\twrong guesses left: \"+str(guess_lft))\r\n",
                "        else:\r\n",
                "            print(\"Enter only a single letter!\")"
            ],
            "outputs": [],
            "metadata": {}
        },
        {
            "cell_type": "code",
            "execution_count": 54,
            "source": [
                "play_Hangman()"
            ],
            "outputs": [
                {
                    "output_type": "stream",
                    "name": "stdout",
                    "text": [
                        "Welcome to Hangman: 2021\n",
                        "Your word is: ?????\n",
                        "You can make at most 2 wrong guesses\n",
                        "Correct guess! The word is: ?a???\t\twrong guesses left: 2\n",
                        "Correct guess! The word is: ka???\t\twrong guesses left: 2\n",
                        "Correct guess! The word is: kab??\t\twrong guesses left: 2\n",
                        "Correct guess! The word is: kabi?\t\twrong guesses left: 2\n",
                        "Correct guess! The word is: kabir\t\twrong guesses left: 2\n",
                        "Congratulations, You won!\n"
                    ]
                }
            ],
            "metadata": {}
        },
        {
            "cell_type": "code",
            "execution_count": 55,
            "source": [
                "Names=['Aarav','Mohammed','Vihaan','Aditya','Sai','Arjun','Aryan','Reyansh','Vivaan','Krishna','Atharv','Ayaan','Ishaan','Dhruv','Ryan','Arnav','Shaurya','Kabir','Aarush','Rudra','Ayush','Advik','Ansh','Sathvik']"
            ],
            "outputs": [],
            "metadata": {}
        }
    ],
    "metadata": {
        "orig_nbformat": 4,
        "language_info": {
            "name": "python",
            "version": "3.8.3",
            "mimetype": "text/x-python",
            "codemirror_mode": {
                "name": "ipython",
                "version": 3
            },
            "pygments_lexer": "ipython3",
            "nbconvert_exporter": "python",
            "file_extension": ".py"
        },
        "kernelspec": {
            "name": "python3",
            "display_name": "Python 3.8.3 64-bit"
        },
        "interpreter": {
            "hash": "2db524e06e9f5f4ffedc911c917cb75e12dbc923643829bf417064a77eb14d37"
        }
    },
    "nbformat": 4,
    "nbformat_minor": 2
}