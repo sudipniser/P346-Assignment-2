{
 "cells": [
  {
   "cell_type": "code",
   "execution_count": 1,
   "metadata": {},
   "outputs": [],
   "source": [
    "'''\n",
    "#A2-Q1 \n",
    "#Creating a matrix class that will facilitate the handling for matrices for any dimension\n",
    "The matrix class will take input in list of lists format, e.g., the matrix \n",
    "[1 0 0] will be entered as [[1,0,0],[0,1,0],[0,0,1]]\n",
    "[0 1 0]\n",
    "[0 0 1]\n",
    "'''\n",
    "class Matrix:\n",
    "    def __init__(self,list_of_lists):\n",
    "        for i in range(len(list_of_lists)):\n",
    "            if len(list_of_lists[i]) != len(list_of_lists[0]): #It must be a matrix afterall\n",
    "                print(\"undefined matrix\")\n",
    "        self.lol=list_of_lists\n",
    "    def show(self):#Method to display the matrix appropriately\n",
    "        for i in self.lol:\n",
    "            for j in i:\n",
    "                print(str(j)+str(','),end='')\n",
    "            print(\"\\n\")\n",
    "    def Transpose(self):#Method defining the Transpose of a matrix\n",
    "        C=[]\n",
    "        for _ in range(len(self.lol[0])):#Inverting the number of rows and columns\n",
    "            C+=[[]]\n",
    "        for i in range(len(self.lol)):\n",
    "            for j in range(len(self.lol[i])):#appending the rows as columns\n",
    "                C[j].append(self.lol[i][j])\n",
    "        return(Matrix(C))\n",
    "def Mat_product(X,Y,show=True):\n",
    "    if isinstance(X,Matrix) == True and isinstance(Y,Matrix) ==True:\n",
    "#Just a check to see if the matrices can be actually be multiplied\n",
    "        if len(X.lol[0])!=len(Y.lol):\n",
    "            print('Product not defined')\n",
    "        else:\n",
    "            m=len(X.lol)\n",
    "            n=len(Y.lol[0])\n",
    "            Z=[]\n",
    "            for _ in range(m):#creating the new matrix\n",
    "                Z+=[[]]\n",
    "            for i in range(len(X.lol)):#populating the entries of the new matrix\n",
    "                temp=0\n",
    "#The next three lines multiply the necessary elements to find the i,l th element of the new matrix\n",
    "                for l in range(len(Y.lol[0])):\n",
    "                    for j in range(len(X.lol[i])):\n",
    "                        temp+=X.lol[i][j]*Y.lol[j][l]\n",
    "                    Z[i].append(temp)\n",
    "                    temp=0\n",
    "            if show==True:\n",
    "                Matrix(Z).show()\n",
    "            return(Matrix(Z))\n",
    "    else:\n",
    "        print(\"Not a matrix\")"
   ]
  },
  {
   "cell_type": "code",
   "execution_count": 2,
   "metadata": {},
   "outputs": [],
   "source": [
    "'''\n",
    "#A function to read the data from the files to obtain the matrix\n",
    "#The file must be created in the following format, \n",
    "    #only one row must be written in a line, with elements separated by commas,\n",
    "    #no comma is allowed to be placed at the end of a line except when the line describes the last row\n",
    "    #Comma at the end of the last row is necessary\n",
    "    #[1 0 0] is entered as 1,0,0\n",
    "     [0 1 0]               0,1,0 <-note the absence of comma\n",
    "     [0 0 1]               0,0,1,<- note this comma\n",
    "    #\n",
    "'''\n",
    "def read_matrix(file_name):\n",
    "    file=open(str(file_name),\"r\")\n",
    "    M=[[]]\n",
    "    temp=''\n",
    "    i=0\n",
    "#what follows below is a just accessing the strings one by one, and and converting the file data to list\n",
    "#of lists format\n",
    "    for j in file:\n",
    "        for k in j:\n",
    "            if k=='\\n':\n",
    "                M[i]+=[int(temp)]\n",
    "                temp=''\n",
    "                i+=1\n",
    "                M+=[[]]\n",
    "            elif k!=',' and k!='\\n':\n",
    "                temp+=k\n",
    "            elif k==',':\n",
    "                M[i]+=[int(temp)]\n",
    "                temp=''\n",
    "    return(M)\n",
    "    "
   ]
  },
  {
   "cell_type": "code",
   "execution_count": 3,
   "metadata": {},
   "outputs": [],
   "source": [
    "#Reading the matrices from their files\n",
    "A=Matrix(read_matrix('A.txt'))\n",
    "B=Matrix(read_matrix('B.txt'))\n",
    "C=Matrix(read_matrix('C.txt'))\n",
    "D=Matrix(read_matrix('D.txt'))"
   ]
  },
  {
   "cell_type": "code",
   "execution_count": 4,
   "metadata": {},
   "outputs": [
    {
     "name": "stdout",
     "output_type": "stream",
     "text": [
      "2,3,4,\n",
      "\n",
      "1,0,0,\n",
      "\n",
      "6,5,4,\n",
      "\n"
     ]
    }
   ],
   "source": [
    "A.show()"
   ]
  },
  {
   "cell_type": "code",
   "execution_count": 5,
   "metadata": {},
   "outputs": [
    {
     "name": "stdout",
     "output_type": "stream",
     "text": [
      "3,4,7,\n",
      "\n",
      "9,0,2,\n",
      "\n",
      "5,3,8,\n",
      "\n"
     ]
    }
   ],
   "source": [
    "B.show()"
   ]
  },
  {
   "cell_type": "code",
   "execution_count": 6,
   "metadata": {},
   "outputs": [
    {
     "name": "stdout",
     "output_type": "stream",
     "text": [
      "1,2,3,\n",
      "\n"
     ]
    }
   ],
   "source": [
    "C.show()"
   ]
  },
  {
   "cell_type": "code",
   "execution_count": 7,
   "metadata": {},
   "outputs": [
    {
     "name": "stdout",
     "output_type": "stream",
     "text": [
      "6,3,1,\n",
      "\n"
     ]
    }
   ],
   "source": [
    "D.show()"
   ]
  },
  {
   "cell_type": "code",
   "execution_count": 8,
   "metadata": {},
   "outputs": [
    {
     "name": "stdout",
     "output_type": "stream",
     "text": [
      "15,\n",
      "\n"
     ]
    },
    {
     "data": {
      "text/plain": [
       "<__main__.Matrix at 0x1e3d24bd9a0>"
      ]
     },
     "execution_count": 8,
     "metadata": {},
     "output_type": "execute_result"
    }
   ],
   "source": [
    "#Taking the dot product of the vectors C and D\n",
    "Mat_product(C,D.Transpose())"
   ]
  },
  {
   "cell_type": "code",
   "execution_count": 9,
   "metadata": {},
   "outputs": [
    {
     "name": "stdout",
     "output_type": "stream",
     "text": [
      "53,20,52,\n",
      "\n",
      "3,4,7,\n",
      "\n",
      "83,36,84,\n",
      "\n"
     ]
    },
    {
     "data": {
      "text/plain": [
       "<__main__.Matrix at 0x1e3d24bd6a0>"
      ]
     },
     "execution_count": 9,
     "metadata": {},
     "output_type": "execute_result"
    }
   ],
   "source": [
    "#Multiplying the matrices A and B\n",
    "Mat_product(A,B)"
   ]
  },
  {
   "cell_type": "code",
   "execution_count": 10,
   "metadata": {},
   "outputs": [
    {
     "name": "stdout",
     "output_type": "stream",
     "text": [
      "22,18,16,\n",
      "\n"
     ]
    },
    {
     "data": {
      "text/plain": [
       "<__main__.Matrix at 0x1e3d24aa340>"
      ]
     },
     "execution_count": 10,
     "metadata": {},
     "output_type": "execute_result"
    }
   ],
   "source": [
    "#Multiplying the matrices C and A\n",
    "Mat_product(C,A)"
   ]
  },
  {
   "cell_type": "code",
   "execution_count": 11,
   "metadata": {},
   "outputs": [
    {
     "name": "stdout",
     "output_type": "stream",
     "text": [
      "50,27,56,\n",
      "\n"
     ]
    },
    {
     "data": {
      "text/plain": [
       "<__main__.Matrix at 0x1e3d24bd460>"
      ]
     },
     "execution_count": 11,
     "metadata": {},
     "output_type": "execute_result"
    }
   ],
   "source": [
    "#Multiplying the matrices D and B\n",
    "Mat_product(D,B)"
   ]
  },
  {
   "cell_type": "code",
   "execution_count": 12,
   "metadata": {},
   "outputs": [
    {
     "name": "stdout",
     "output_type": "stream",
     "text": [
      "1,2,3,\n",
      "\n",
      "2,4,6,\n",
      "\n",
      "3,6,9,\n",
      "\n"
     ]
    },
    {
     "data": {
      "text/plain": [
       "<__main__.Matrix at 0x1e3d24bda00>"
      ]
     },
     "execution_count": 12,
     "metadata": {},
     "output_type": "execute_result"
    }
   ],
   "source": [
    "E=Matrix(read_matrix('E.txt'))\n",
    "Mat_product(E,C)"
   ]
  },
  {
   "cell_type": "code",
   "execution_count": 13,
   "metadata": {},
   "outputs": [],
   "source": [
    "'''\n",
    "A2-Q2\n",
    "#Defining a complex number class with the important complex numbers' properties \n",
    "'''\n",
    "class myComplex:\n",
    "    def __init__(self,x,y):\n",
    "        self.real=x\n",
    "        self.imaginary=y\n",
    "    def conjugate(self):\n",
    "        return(myComplex(self.real,-self.imaginary))\n",
    "    def modulus(self):\n",
    "        return((self.real**2+self.imaginary**2)**(1/2))\n",
    "    def phase(self):\n",
    "#The phase defined here is from -pi to pi, NOT 0 to 2*pi\n",
    "        import math #To be able to calculate arctan\n",
    "        theta=math.atan(abs(self.imaginary/self.real))\n",
    "#The following if-else loop calculates the phase in -pi to pi\n",
    "        if self.real>0 and self.imaginary>0:\n",
    "            return(theta)\n",
    "        elif self.real<0 and self.imaginary>0:\n",
    "            return(math.pi-theta)\n",
    "        elif self.real>0 and self.imaginary<0:\n",
    "            return(-theta)\n",
    "        elif self.real<0 and self.imaginary<0:\n",
    "            return(theta-math.pi)\n",
    "    def show(self):#a method to show the complex numbers obtained\n",
    "        print('('+str(self.real)+')'+'+'+'('+str(self.imaginary)+')i')\n",
    "\n",
    "#A function to multiply two complex numbers\n",
    "def comp_product(c1,c2):\n",
    "    if isinstance(c1,myComplex)==True and isinstance(c2,myComplex)==True:#Just to make sure if the inputs are complex\n",
    "        return(myComplex(c1.real*c2.real-c1.imaginary*c2.imaginary,c1.real*c2.imaginary+c2.real*c1.imaginary))\n",
    "    else:\n",
    "        print(\"Both inputs must be complex\")\n",
    "\n",
    "#A function to add two complex numbers\n",
    "def comp_sum(c1,c2):\n",
    "    if isinstance(c1,myComplex)==True and isinstance(c2,myComplex)==True:#Just to make sure if the inputs are complex\n",
    "        return(myComplex(c1.real+c2.real,c1.imaginary+c2.imaginary))\n",
    "    else:\n",
    "        print(\"Both inputs must be complex\")\n",
    "\n",
    "#A function to divide two complex numbers\n",
    "def comp_div(c1,c2):\n",
    "    if isinstance(c1,myComplex)==True and isinstance(c2,myComplex)==True:#Just to make sure if the inputs are complex\n",
    "        return(myComplex(comp_product(c1,c2.conjugate()).real/(c2.modulus())**2,comp_product(c1,c2.conjugate()).imaginary/(c2.modulus())**2))\n",
    "    else:\n",
    "        print(\"Both inputs must be complex\")"
   ]
  },
  {
   "cell_type": "code",
   "execution_count": 14,
   "metadata": {},
   "outputs": [],
   "source": [
    "#Defining two complex numbers\n",
    "z1=myComplex(1,-2)\n",
    "z2=myComplex(2,3)"
   ]
  },
  {
   "cell_type": "code",
   "execution_count": 15,
   "metadata": {},
   "outputs": [
    {
     "name": "stdout",
     "output_type": "stream",
     "text": [
      "(1)+(-2)i\n"
     ]
    }
   ],
   "source": [
    "z1.show()"
   ]
  },
  {
   "cell_type": "code",
   "execution_count": 16,
   "metadata": {},
   "outputs": [
    {
     "name": "stdout",
     "output_type": "stream",
     "text": [
      "(1)+(2)i\n"
     ]
    }
   ],
   "source": [
    "z1.conjugate().show()"
   ]
  },
  {
   "cell_type": "code",
   "execution_count": 17,
   "metadata": {},
   "outputs": [
    {
     "data": {
      "text/plain": [
       "-1.1071487177940904"
      ]
     },
     "execution_count": 17,
     "metadata": {},
     "output_type": "execute_result"
    }
   ],
   "source": [
    "z1.phase()"
   ]
  },
  {
   "cell_type": "code",
   "execution_count": 18,
   "metadata": {},
   "outputs": [
    {
     "name": "stdout",
     "output_type": "stream",
     "text": [
      "(-0.3076923076923077)+(-0.5384615384615385)i\n"
     ]
    }
   ],
   "source": [
    "comp_div(z1,z2).show()"
   ]
  },
  {
   "cell_type": "code",
   "execution_count": 19,
   "metadata": {},
   "outputs": [
    {
     "name": "stdout",
     "output_type": "stream",
     "text": [
      "(8)+(-1)i\n"
     ]
    }
   ],
   "source": [
    "comp_product(z1,z2).show()"
   ]
  },
  {
   "cell_type": "code",
   "execution_count": 20,
   "metadata": {},
   "outputs": [
    {
     "name": "stdout",
     "output_type": "stream",
     "text": [
      "(3)+(1)i\n"
     ]
    }
   ],
   "source": [
    "comp_sum(z1,z2).show()"
   ]
  },
  {
   "cell_type": "code",
   "execution_count": 21,
   "metadata": {},
   "outputs": [],
   "source": [
    "#A2-Q3\n",
    "#Average distance between two points on a line of N equally spaced points\n",
    "def av_dist(N):\n",
    "    m=0\n",
    "    dist_sum=0\n",
    "    for i in range(N):#choosing a reference point\n",
    "        for j in range(N):#choosing another point, which may or may not be the reference point\n",
    "            m+=1    #increasing the number of distances calculated\n",
    "            dist_sum+=abs(j-i) #calculating the distance\n",
    "    return(dist_sum/(m)) #Finding the average\n"
   ]
  },
  {
   "cell_type": "code",
   "execution_count": 22,
   "metadata": {},
   "outputs": [
    {
     "name": "stdout",
     "output_type": "stream",
     "text": [
      "Average distance on a line of 1 point(s) is 0.0\n",
      "Average distance on a line of 2 point(s) is 0.5\n",
      "Average distance on a line of 3 point(s) is 0.8888888888888888\n",
      "Average distance on a line of 4 point(s) is 1.25\n",
      "Average distance on a line of 5 point(s) is 1.6\n",
      "Average distance on a line of 6 point(s) is 1.9444444444444444\n",
      "Average distance on a line of 7 point(s) is 2.2857142857142856\n",
      "Average distance on a line of 8 point(s) is 2.625\n",
      "Average distance on a line of 9 point(s) is 2.962962962962963\n",
      "Average distance on a line of 10 point(s) is 3.3\n"
     ]
    }
   ],
   "source": [
    "for i in range(1,11):\n",
    "    print('Average distance on a line of '+str(i)+' point(s) is '+str(av_dist(i)))"
   ]
  },
  {
   "cell_type": "code",
   "execution_count": 23,
   "metadata": {},
   "outputs": [],
   "source": [
    "'''\n",
    "A2-Q4\n",
    "#Designing a Hangman game\n",
    "'''\n",
    "#This is a letter search algorithm which returns the indices that a particular letter occupies in a string\n",
    "def letter_search(letter,string):\n",
    "    indices=[]\n",
    "    for i in range(len(string)):\n",
    "        if string[i].lower() == letter.lower():\n",
    "            indices.append(i)\n",
    "    return(indices)"
   ]
  },
  {
   "cell_type": "code",
   "execution_count": 24,
   "metadata": {},
   "outputs": [],
   "source": [
    "def play_Hangman():\n",
    "    #The Names that are to be guessed by the player\n",
    "    Names=['Aarav','Mohammed','Vihaan','Aditya','Sai','Arjun','Aryan','Reyansh','Vivaan','Krishna','Atharv','Ayaan','Ishaan','Dhruv','Ryan','Arnav','Shaurya','Kabir','Aarush','Rudra','Ayush','Advik','Ansh','Sathvik']\n",
    "    #Importing random to randomly select a name\n",
    "    import random\n",
    "    n=random.randint(0,23)\n",
    "    #Number of wrong guesses is 40% of the word length\n",
    "    guess_lft=int(len(Names[n])*2/5)\n",
    "    print(\"Welcome to Hangman: 2021\")\n",
    "    unK=\"?\"*len(Names[n])#Unknown name\n",
    "    print(\"Your word is: \"+unK)\n",
    "    print(\"You can make at most \"+str(guess_lft)+\" wrong guesses\")\n",
    "    print(\"Please enter only one character at a time\")\n",
    "    while True:\n",
    "        let=input('Guess a letter of the name: ')\n",
    "        if len(let)==1:#player can enter only one character at a time\n",
    "            indices=letter_search(let,Names[n])\n",
    "            if len(indices)>0:#correct guess\n",
    "                for i in indices:\n",
    "                    unK=unK[:i]+let+unK[i+1:] # revealing the position of the correctly guessed letter\n",
    "                print(\"Correct guess! The word is: \"+unK+\"\\t\\twrong guesses left: \"+str(guess_lft))\n",
    "                if len(letter_search('?',unK)) ==0:\n",
    "                    print(\"Congratulations, You won!\")#Nothing left to reveal, thus winning the game\n",
    "                    break\n",
    "            else:#wrong guess\n",
    "                guess_lft=guess_lft-1\n",
    "                if guess_lft<0:\n",
    "                    print(\"You lost! the correct word is \"+Names[n])#no wrong guesses left\n",
    "                    break\n",
    "                print(let+\" is a wrong guess! The word is: \"+unK+\"\\t\\t\\twrong guesses left: \"+str(guess_lft))\n",
    "        else:\n",
    "            print(\"Enter only a single letter!\")"
   ]
  },
  {
   "cell_type": "code",
   "execution_count": 25,
   "metadata": {},
   "outputs": [
    {
     "name": "stdout",
     "output_type": "stream",
     "text": [
      "Welcome to Hangman: 2021\n",
      "Your word is: ?????\n",
      "You can make at most 2 wrong guesses\n",
      "Please enter only one character at a time\n",
      "Correct guess! The word is: ????a\t\twrong guesses left: 2\n",
      "Correct guess! The word is: r??ra\t\twrong guesses left: 2\n",
      "Correct guess! The word is: r?dra\t\twrong guesses left: 2\n",
      "Correct guess! The word is: rudra\t\twrong guesses left: 2\n",
      "Congratulations, You won!\n"
     ]
    }
   ],
   "source": [
    "play_Hangman()"
   ]
  },
  {
   "cell_type": "code",
   "execution_count": 26,
   "metadata": {},
   "outputs": [
    {
     "name": "stdout",
     "output_type": "stream",
     "text": [
      "Welcome to Hangman: 2021\n",
      "Your word is: ????\n",
      "You can make at most 1 wrong guesses\n",
      "Please enter only one character at a time\n",
      "Correct guess! The word is: ??a?\t\twrong guesses left: 1\n",
      "Correct guess! The word is: r?a?\t\twrong guesses left: 1\n",
      "Correct guess! The word is: rya?\t\twrong guesses left: 1\n",
      "Correct guess! The word is: ryan\t\twrong guesses left: 1\n",
      "Congratulations, You won!\n"
     ]
    }
   ],
   "source": [
    "play_Hangman()"
   ]
  },
  {
   "cell_type": "code",
   "execution_count": 29,
   "metadata": {},
   "outputs": [
    {
     "name": "stdout",
     "output_type": "stream",
     "text": [
      "Welcome to Hangman: 2021\n",
      "Your word is: ??????\n",
      "You can make at most 2 wrong guesses\n",
      "Please enter only one character at a time\n",
      "Correct guess! The word is: a??a??\t\twrong guesses left: 2\n",
      "Correct guess! The word is: at?a??\t\twrong guesses left: 2\n",
      "Correct guess! The word is: atha??\t\twrong guesses left: 2\n",
      "Correct guess! The word is: athar?\t\twrong guesses left: 2\n",
      "Correct guess! The word is: atharv\t\twrong guesses left: 2\n",
      "Congratulations, You won!\n"
     ]
    }
   ],
   "source": [
    "play_Hangman()"
   ]
  },
  {
   "cell_type": "code",
   "execution_count": 28,
   "metadata": {},
   "outputs": [
    {
     "name": "stdout",
     "output_type": "stream",
     "text": [
      "Welcome to Hangman: 2021\n",
      "Your word is: ???????\n",
      "You can make at most 2 wrong guesses\n",
      "Please enter only one character at a time\n",
      "Correct guess! The word is: ?a?????\t\twrong guesses left: 2\n",
      "m is a wrong guess! The word is: ?a?????\t\t\twrong guesses left: 1\n",
      "b is a wrong guess! The word is: ?a?????\t\t\twrong guesses left: 0\n",
      "You lost! the correct word is Sathvik\n"
     ]
    }
   ],
   "source": [
    "play_Hangman()"
   ]
  },
  {
   "cell_type": "code",
   "execution_count": 30,
   "metadata": {},
   "outputs": [
    {
     "name": "stdout",
     "output_type": "stream",
     "text": [
      "Welcome to Hangman: 2021\n",
      "Your word is: ???????\n",
      "You can make at most 2 wrong guesses\n",
      "Please enter only one character at a time\n",
      "Correct guess! The word is: ??????a\t\twrong guesses left: 2\n",
      "m is a wrong guess! The word is: ??????a\t\t\twrong guesses left: 1\n",
      "b is a wrong guess! The word is: ??????a\t\t\twrong guesses left: 0\n",
      "Correct guess! The word is: ??i???a\t\twrong guesses left: 0\n",
      "Correct guess! The word is: ?ri???a\t\twrong guesses left: 0\n",
      "Correct guess! The word is: ?ris??a\t\twrong guesses left: 0\n",
      "You lost! the correct word is Krishna\n"
     ]
    }
   ],
   "source": [
    "play_Hangman()"
   ]
  },
  {
   "cell_type": "code",
   "execution_count": 31,
   "metadata": {},
   "outputs": [
    {
     "name": "stdout",
     "output_type": "stream",
     "text": [
      "Welcome to Hangman: 2021\n",
      "Your word is: ????\n",
      "You can make at most 1 wrong guesses\n",
      "Please enter only one character at a time\n",
      "Correct guess! The word is: ??a?\t\twrong guesses left: 1\n",
      "m is a wrong guess! The word is: ??a?\t\t\twrong guesses left: 0\n",
      "You lost! the correct word is Ryan\n"
     ]
    }
   ],
   "source": [
    "play_Hangman()"
   ]
  },
  {
   "cell_type": "code",
   "execution_count": null,
   "metadata": {},
   "outputs": [],
   "source": [
    "'''\n",
    "['Aarav','Mohammed','Vihaan','Aditya','Sai','Arjun','Aryan','Reyansh','Vivaan','Krishna','Atharv','Ayaan','Ishaan'\n",
    ",'Dhruv','Ryan','Arnav','Shaurya','Kabir','Aarush','Rudra','Ayush','Advik','Ansh','Sathvik']\n",
    "'''\n",
    "#The list of names used for reference"
   ]
  }
 ],
 "metadata": {
  "interpreter": {
   "hash": "2db524e06e9f5f4ffedc911c917cb75e12dbc923643829bf417064a77eb14d37"
  },
  "kernelspec": {
   "display_name": "Python 3",
   "language": "python",
   "name": "python3"
  },
  "language_info": {
   "codemirror_mode": {
    "name": "ipython",
    "version": 3
   },
   "file_extension": ".py",
   "mimetype": "text/x-python",
   "name": "python",
   "nbconvert_exporter": "python",
   "pygments_lexer": "ipython3",
   "version": "3.8.3"
  }
 },
 "nbformat": 4,
 "nbformat_minor": 2
}
