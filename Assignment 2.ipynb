{
    "cells": [
        {
            "cell_type": "code",
            "execution_count": 1,
            "source": [
                "'''\r\n",
                "#A2-Q1 \r\n",
                "#Creating a matrix class that will facilitate the handling for matrices for any dimension\r\n",
                "The matrix class will take input in list of lists format, e.g., the matrix \r\n",
                "[1 0 0] will be entered as [[1,0,0],[0,1,0],[0,0,1]]\r\n",
                "[0 1 0]\r\n",
                "[0 0 1]\r\n",
                "'''\r\n",
                "class Matrix:\r\n",
                "    def __init__(self,list_of_lists):\r\n",
                "        for i in range(len(list_of_lists)):\r\n",
                "            if len(list_of_lists[i]) != len(list_of_lists[0]): #It must be a matrix afterall\r\n",
                "                print(\"undefined matrix\")\r\n",
                "        self.lol=list_of_lists\r\n",
                "    def show(self):#Method to display the matrix appropriately\r\n",
                "        for i in self.lol:\r\n",
                "            for j in i:\r\n",
                "                print(str(j)+str(','),end='')\r\n",
                "            print(\"\\n\")\r\n",
                "    def Transpose(self):#Method defining the Transpose of a matrix\r\n",
                "        C=[]\r\n",
                "        for _ in range(len(self.lol[0])):#Inverting the number of rows and columns\r\n",
                "            C+=[[]]\r\n",
                "        for i in range(len(self.lol)):\r\n",
                "            for j in range(len(self.lol[i])):#appending the rows as columns\r\n",
                "                C[j].append(self.lol[i][j])\r\n",
                "        return(Matrix(C))\r\n",
                "def Mat_product(X,Y,show=True):\r\n",
                "    if isinstance(X,Matrix) == True and isinstance(Y,Matrix) ==True:\r\n",
                "#Just a check to see if the matrices can be actually be multiplied\r\n",
                "        if len(X.lol[0])!=len(Y.lol):\r\n",
                "            print('Product not defined')\r\n",
                "        else:\r\n",
                "            m=len(X.lol)\r\n",
                "            n=len(Y.lol[0])\r\n",
                "            Z=[]\r\n",
                "            for _ in range(m):#creating the new matrix\r\n",
                "                Z+=[[]]\r\n",
                "            for i in range(len(X.lol)):#populating the entries of the new matrix\r\n",
                "                temp=0\r\n",
                "#The next three lines multiply the necessary elements to find the i,l th element of the new matrix\r\n",
                "                for l in range(len(Y.lol[0])):\r\n",
                "                    for j in range(len(X.lol[i])):\r\n",
                "                        temp+=X.lol[i][j]*Y.lol[j][l]\r\n",
                "                    Z[i].append(temp)\r\n",
                "                    temp=0\r\n",
                "            if show==True:\r\n",
                "                Matrix(Z).show()\r\n",
                "            return(Matrix(Z))\r\n",
                "    else:\r\n",
                "        print(\"Not a matrix\")"
            ],
            "outputs": [],
            "metadata": {}
        },
        {
            "cell_type": "code",
            "execution_count": 2,
            "source": [
                "'''\r\n",
                "#A function to read the data from the files to obtain the matrix\r\n",
                "#The file must be created in the following format, \r\n",
                "    #only one row must be written in a line, with elements separated by commas,\r\n",
                "    #no comma is allowed to be placed at the end of a line except when the line describes the last row\r\n",
                "    #Comma at the end of the last row is necessary\r\n",
                "    #[1 0 0] is entered as 1,0,0\r\n",
                "     [0 1 0]               0,1,0 <-note the absence of comma\r\n",
                "     [0 0 1]               0,0,1,<- note this comma\r\n",
                "    #\r\n",
                "'''\r\n",
                "def read_matrix(file_name):\r\n",
                "    file=open(str(file_name),\"r\")\r\n",
                "    M=[[]]\r\n",
                "    temp=''\r\n",
                "    i=0\r\n",
                "#what follows below is a just accessing the strings one by one, and and converting the file data to list\r\n",
                "#of lists format\r\n",
                "    for j in file:\r\n",
                "        for k in j:\r\n",
                "            if k=='\\n':\r\n",
                "                M[i]+=[int(temp)]\r\n",
                "                temp=''\r\n",
                "                i+=1\r\n",
                "                M+=[[]]\r\n",
                "            elif k!=',' and k!='\\n':\r\n",
                "                temp+=k\r\n",
                "            elif k==',':\r\n",
                "                M[i]+=[int(temp)]\r\n",
                "                temp=''\r\n",
                "    return(M)\r\n",
                "    "
            ],
            "outputs": [],
            "metadata": {}
        },
        {
            "cell_type": "code",
            "execution_count": 3,
            "source": [
                "#Reading the matrices from their files\r\n",
                "A=Matrix(read_matrix('A.txt'))\r\n",
                "B=Matrix(read_matrix('B.txt'))\r\n",
                "C=Matrix(read_matrix('C.txt'))\r\n",
                "D=Matrix(read_matrix('D.txt'))"
            ],
            "outputs": [],
            "metadata": {}
        },
        {
            "cell_type": "code",
            "execution_count": 4,
            "source": [
                "A.show()"
            ],
            "outputs": [
                {
                    "output_type": "stream",
                    "name": "stdout",
                    "text": [
                        "2,3,4,\n",
                        "\n",
                        "1,0,0,\n",
                        "\n",
                        "6,5,4,\n",
                        "\n"
                    ]
                }
            ],
            "metadata": {}
        },
        {
            "cell_type": "code",
            "execution_count": 5,
            "source": [
                "B.show()"
            ],
            "outputs": [
                {
                    "output_type": "stream",
                    "name": "stdout",
                    "text": [
                        "3,4,7,\n",
                        "\n",
                        "9,0,2,\n",
                        "\n",
                        "5,3,8,\n",
                        "\n"
                    ]
                }
            ],
            "metadata": {}
        },
        {
            "cell_type": "code",
            "execution_count": 6,
            "source": [
                "C.show()"
            ],
            "outputs": [
                {
                    "output_type": "stream",
                    "name": "stdout",
                    "text": [
                        "1,2,3,\n",
                        "\n"
                    ]
                }
            ],
            "metadata": {}
        },
        {
            "cell_type": "code",
            "execution_count": 7,
            "source": [
                "D.show()"
            ],
            "outputs": [
                {
                    "output_type": "stream",
                    "name": "stdout",
                    "text": [
                        "6,3,1,\n",
                        "\n"
                    ]
                }
            ],
            "metadata": {}
        },
        {
            "cell_type": "code",
            "execution_count": 8,
            "source": [
                "#Taking the dot product of the vectors C and D\r\n",
                "Mat_product(C,D.Transpose())"
            ],
            "outputs": [
                {
                    "output_type": "stream",
                    "name": "stdout",
                    "text": [
                        "15,\n",
                        "\n"
                    ]
                },
                {
                    "output_type": "execute_result",
                    "data": {
                        "text/plain": [
                            "<__main__.Matrix at 0x1e3d24bd9a0>"
                        ]
                    },
                    "metadata": {},
                    "execution_count": 8
                }
            ],
            "metadata": {}
        },
        {
            "cell_type": "code",
            "execution_count": 9,
            "source": [
                "#Multiplying the matrices A and B\r\n",
                "Mat_product(A,B)"
            ],
            "outputs": [
                {
                    "output_type": "stream",
                    "name": "stdout",
                    "text": [
                        "53,20,52,\n",
                        "\n",
                        "3,4,7,\n",
                        "\n",
                        "83,36,84,\n",
                        "\n"
                    ]
                },
                {
                    "output_type": "execute_result",
                    "data": {
                        "text/plain": [
                            "<__main__.Matrix at 0x1e3d24bd6a0>"
                        ]
                    },
                    "metadata": {},
                    "execution_count": 9
                }
            ],
            "metadata": {}
        },
        {
            "cell_type": "code",
            "execution_count": 10,
            "source": [
                "#Multiplying the matrices C and A\r\n",
                "Mat_product(C,A)"
            ],
            "outputs": [
                {
                    "output_type": "stream",
                    "name": "stdout",
                    "text": [
                        "22,18,16,\n",
                        "\n"
                    ]
                },
                {
                    "output_type": "execute_result",
                    "data": {
                        "text/plain": [
                            "<__main__.Matrix at 0x1e3d24aa340>"
                        ]
                    },
                    "metadata": {},
                    "execution_count": 10
                }
            ],
            "metadata": {}
        },
        {
            "cell_type": "code",
            "execution_count": 11,
            "source": [
                "#Multiplying the matrices D and B\r\n",
                "Mat_product(D,B)"
            ],
            "outputs": [
                {
                    "output_type": "stream",
                    "name": "stdout",
                    "text": [
                        "50,27,56,\n",
                        "\n"
                    ]
                },
                {
                    "output_type": "execute_result",
                    "data": {
                        "text/plain": [
                            "<__main__.Matrix at 0x1e3d24bd460>"
                        ]
                    },
                    "metadata": {},
                    "execution_count": 11
                }
            ],
            "metadata": {}
        },
        {
            "cell_type": "code",
            "execution_count": 12,
            "source": [
                "E=Matrix(read_matrix('E.txt'))\r\n",
                "Mat_product(E,C)"
            ],
            "outputs": [
                {
                    "output_type": "stream",
                    "name": "stdout",
                    "text": [
                        "1,2,3,\n",
                        "\n",
                        "2,4,6,\n",
                        "\n",
                        "3,6,9,\n",
                        "\n"
                    ]
                },
                {
                    "output_type": "execute_result",
                    "data": {
                        "text/plain": [
                            "<__main__.Matrix at 0x1e3d24bda00>"
                        ]
                    },
                    "metadata": {},
                    "execution_count": 12
                }
            ],
            "metadata": {}
        },
        {
            "cell_type": "code",
            "execution_count": 13,
            "source": [
                "'''\r\n",
                "A2-Q2\r\n",
                "#Defining a complex number class with the important complex numbers' properties \r\n",
                "'''\r\n",
                "class myComplex:\r\n",
                "    def __init__(self,x,y):\r\n",
                "        self.real=x\r\n",
                "        self.imaginary=y\r\n",
                "    def conjugate(self):\r\n",
                "        return(myComplex(self.real,-self.imaginary))\r\n",
                "    def modulus(self):\r\n",
                "        return((self.real**2+self.imaginary**2)**(1/2))\r\n",
                "    def phase(self):\r\n",
                "#The phase defined here is from -pi to pi, NOT 0 to 2*pi\r\n",
                "        import math #To be able to calculate arctan\r\n",
                "        theta=math.atan(abs(self.imaginary/self.real))\r\n",
                "#The following if-else loop calculates the phase in -pi to pi\r\n",
                "        if self.real>0 and self.imaginary>0:\r\n",
                "            return(theta)\r\n",
                "        elif self.real<0 and self.imaginary>0:\r\n",
                "            return(math.pi-theta)\r\n",
                "        elif self.real>0 and self.imaginary<0:\r\n",
                "            return(-theta)\r\n",
                "        elif self.real<0 and self.imaginary<0:\r\n",
                "            return(theta-math.pi)\r\n",
                "    def show(self):#a method to show the complex numbers obtained\r\n",
                "        print('('+str(self.real)+')'+'+'+'('+str(self.imaginary)+')i')\r\n",
                "\r\n",
                "#A function to multiply two complex numbers\r\n",
                "def comp_product(c1,c2):\r\n",
                "    if isinstance(c1,myComplex)==True and isinstance(c2,myComplex)==True:#Just to make sure if the inputs are complex\r\n",
                "        return(myComplex(c1.real*c2.real-c1.imaginary*c2.imaginary,c1.real*c2.imaginary+c2.real*c1.imaginary))\r\n",
                "    else:\r\n",
                "        print(\"Both inputs must be complex\")\r\n",
                "\r\n",
                "#A function to add two complex numbers\r\n",
                "def comp_sum(c1,c2):\r\n",
                "    if isinstance(c1,myComplex)==True and isinstance(c2,myComplex)==True:#Just to make sure if the inputs are complex\r\n",
                "        return(myComplex(c1.real+c2.real,c1.imaginary+c2.imaginary))\r\n",
                "    else:\r\n",
                "        print(\"Both inputs must be complex\")\r\n",
                "\r\n",
                "#A function to divide two complex numbers\r\n",
                "def comp_div(c1,c2):\r\n",
                "    if isinstance(c1,myComplex)==True and isinstance(c2,myComplex)==True:#Just to make sure if the inputs are complex\r\n",
                "        return(myComplex(comp_product(c1,c2.conjugate()).real/(c2.modulus())**2,comp_product(c1,c2.conjugate()).imaginary/(c2.modulus())**2))\r\n",
                "    else:\r\n",
                "        print(\"Both inputs must be complex\")"
            ],
            "outputs": [],
            "metadata": {}
        },
        {
            "cell_type": "code",
            "execution_count": 14,
            "source": [
                "#Defining two complex numbers\r\n",
                "z1=myComplex(1,-2)\r\n",
                "z2=myComplex(2,3)"
            ],
            "outputs": [],
            "metadata": {}
        },
        {
            "cell_type": "code",
            "execution_count": 15,
            "source": [
                "z1.show()"
            ],
            "outputs": [
                {
                    "output_type": "stream",
                    "name": "stdout",
                    "text": [
                        "(1)+(-2)i\n"
                    ]
                }
            ],
            "metadata": {}
        },
        {
            "cell_type": "code",
            "execution_count": 16,
            "source": [
                "z1.conjugate().show()"
            ],
            "outputs": [
                {
                    "output_type": "stream",
                    "name": "stdout",
                    "text": [
                        "(1)+(2)i\n"
                    ]
                }
            ],
            "metadata": {}
        },
        {
            "cell_type": "code",
            "execution_count": 17,
            "source": [
                "z1.phase()"
            ],
            "outputs": [
                {
                    "output_type": "execute_result",
                    "data": {
                        "text/plain": [
                            "-1.1071487177940904"
                        ]
                    },
                    "metadata": {},
                    "execution_count": 17
                }
            ],
            "metadata": {}
        },
        {
            "cell_type": "code",
            "execution_count": 18,
            "source": [
                "comp_div(z1,z2).show()"
            ],
            "outputs": [
                {
                    "output_type": "stream",
                    "name": "stdout",
                    "text": [
                        "(-0.3076923076923077)+(-0.5384615384615385)i\n"
                    ]
                }
            ],
            "metadata": {}
        },
        {
            "cell_type": "code",
            "execution_count": 19,
            "source": [
                "comp_product(z1,z2).show()"
            ],
            "outputs": [
                {
                    "output_type": "stream",
                    "name": "stdout",
                    "text": [
                        "(8)+(-1)i\n"
                    ]
                }
            ],
            "metadata": {}
        },
        {
            "cell_type": "code",
            "execution_count": 20,
            "source": [
                "comp_sum(z1,z2).show()"
            ],
            "outputs": [
                {
                    "output_type": "stream",
                    "name": "stdout",
                    "text": [
                        "(3)+(1)i\n"
                    ]
                }
            ],
            "metadata": {}
        },
        {
            "cell_type": "code",
            "execution_count": 21,
            "source": [
                "#A2-Q3\r\n",
                "#Average distance between two points on a line of N equally spaced points\r\n",
                "def av_dist(N):\r\n",
                "    m=0\r\n",
                "    dist_sum=0\r\n",
                "    for i in range(N):#choosing a reference point\r\n",
                "        for j in range(N):#choosing another point, which may or may not be the reference point\r\n",
                "            m+=1    #increasing the number of distances calculated\r\n",
                "            dist_sum+=abs(j-i) #calculating the distance\r\n",
                "    return(dist_sum/(m)) #Finding the average\r\n"
            ],
            "outputs": [],
            "metadata": {}
        },
        {
            "cell_type": "code",
            "execution_count": 22,
            "source": [
                "for i in range(1,11):\r\n",
                "    print('Average distance on a line of '+str(i)+' point(s) is '+str(av_dist(i)))"
            ],
            "outputs": [
                {
                    "output_type": "stream",
                    "name": "stdout",
                    "text": [
                        "Average distance on a line of 1 point(s) is 0.0\n",
                        "Average distance on a line of 2 point(s) is 0.5\n",
                        "Average distance on a line of 3 point(s) is 0.8888888888888888\n",
                        "Average distance on a line of 4 point(s) is 1.25\n",
                        "Average distance on a line of 5 point(s) is 1.6\n",
                        "Average distance on a line of 6 point(s) is 1.9444444444444444\n",
                        "Average distance on a line of 7 point(s) is 2.2857142857142856\n",
                        "Average distance on a line of 8 point(s) is 2.625\n",
                        "Average distance on a line of 9 point(s) is 2.962962962962963\n",
                        "Average distance on a line of 10 point(s) is 3.3\n"
                    ]
                }
            ],
            "metadata": {}
        },
        {
            "cell_type": "code",
            "execution_count": 23,
            "source": [
                "'''\r\n",
                "A2-Q4\r\n",
                "#Designing a Hangman game\r\n",
                "'''\r\n",
                "#This is a letter search algorithm which returns the indices that a particular letter occupies in a string\r\n",
                "def letter_search(letter,string):\r\n",
                "    indices=[]\r\n",
                "    for i in range(len(string)):\r\n",
                "        if string[i].lower() == letter.lower():\r\n",
                "            indices.append(i)\r\n",
                "    return(indices)"
            ],
            "outputs": [],
            "metadata": {}
        },
        {
            "cell_type": "code",
            "execution_count": 24,
            "source": [
                "def play_Hangman():\r\n",
                "    #The Names that are to be guessed by the player\r\n",
                "    Names=['Aarav','Mohammed','Vihaan','Aditya','Sai','Arjun','Aryan','Reyansh','Vivaan','Krishna','Atharv','Ayaan','Ishaan','Dhruv','Ryan','Arnav','Shaurya','Kabir','Aarush','Rudra','Ayush','Advik','Ansh','Sathvik']\r\n",
                "    #Importing random to randomly select a name\r\n",
                "    import random\r\n",
                "    n=random.randint(0,23)\r\n",
                "    #Number of wrong guesses is 40% of the word length\r\n",
                "    guess_lft=int(len(Names[n])*2/5)\r\n",
                "    print(\"Welcome to Hangman: 2021\")\r\n",
                "    unK=\"?\"*len(Names[n])#Unknown name\r\n",
                "    print(\"Your word is: \"+unK)\r\n",
                "    print(\"You can make at most \"+str(guess_lft)+\" wrong guesses\")\r\n",
                "    print(\"Please enter only one character at a time\")\r\n",
                "    while True:\r\n",
                "        let=input('Guess a letter of the name: ')\r\n",
                "        if len(let)==1:#player can enter only one character at a time\r\n",
                "            indices=letter_search(let,Names[n])\r\n",
                "            if len(indices)>0:#correct guess\r\n",
                "                for i in indices:\r\n",
                "                    unK=unK[:i]+let+unK[i+1:] # revealing the position of the correctly guessed letter\r\n",
                "                print(\"Correct guess! The word is: \"+unK+\"\\t\\twrong guesses left: \"+str(guess_lft))\r\n",
                "                if len(letter_search('?',unK)) ==0:\r\n",
                "                    print(\"Congratulations, You won!\")#Nothing left to reveal, thus winning the game\r\n",
                "                    break\r\n",
                "            else:#wrong guess\r\n",
                "                guess_lft=guess_lft-1\r\n",
                "                if guess_lft<0:\r\n",
                "                    print(\"You lost! the correct word is \"+Names[n])#no wrong guesses left\r\n",
                "                    break\r\n",
                "                print(let+\" is a wrong guess! The word is: \"+unK+\"\\t\\t\\twrong guesses left: \"+str(guess_lft))\r\n",
                "        else:\r\n",
                "            print(\"Enter only a single letter!\")"
            ],
            "outputs": [],
            "metadata": {}
        },
        {
            "cell_type": "code",
            "execution_count": 25,
            "source": [
                "play_Hangman()"
            ],
            "outputs": [
                {
                    "output_type": "stream",
                    "name": "stdout",
                    "text": [
                        "Welcome to Hangman: 2021\n",
                        "Your word is: ?????\n",
                        "You can make at most 2 wrong guesses\n",
                        "Please enter only one character at a time\n",
                        "Correct guess! The word is: ????a\t\twrong guesses left: 2\n",
                        "Correct guess! The word is: r??ra\t\twrong guesses left: 2\n",
                        "Correct guess! The word is: r?dra\t\twrong guesses left: 2\n",
                        "Correct guess! The word is: rudra\t\twrong guesses left: 2\n",
                        "Congratulations, You won!\n"
                    ]
                }
            ],
            "metadata": {}
        },
        {
            "cell_type": "code",
            "execution_count": 26,
            "source": [
                "play_Hangman()"
            ],
            "outputs": [
                {
                    "output_type": "stream",
                    "name": "stdout",
                    "text": [
                        "Welcome to Hangman: 2021\n",
                        "Your word is: ????\n",
                        "You can make at most 1 wrong guesses\n",
                        "Please enter only one character at a time\n",
                        "Correct guess! The word is: ??a?\t\twrong guesses left: 1\n",
                        "Correct guess! The word is: r?a?\t\twrong guesses left: 1\n",
                        "Correct guess! The word is: rya?\t\twrong guesses left: 1\n",
                        "Correct guess! The word is: ryan\t\twrong guesses left: 1\n",
                        "Congratulations, You won!\n"
                    ]
                }
            ],
            "metadata": {}
        },
        {
            "cell_type": "code",
            "execution_count": 29,
            "source": [
                "play_Hangman()"
            ],
            "outputs": [
                {
                    "output_type": "stream",
                    "name": "stdout",
                    "text": [
                        "Welcome to Hangman: 2021\n",
                        "Your word is: ??????\n",
                        "You can make at most 2 wrong guesses\n",
                        "Please enter only one character at a time\n",
                        "Correct guess! The word is: a??a??\t\twrong guesses left: 2\n",
                        "Correct guess! The word is: at?a??\t\twrong guesses left: 2\n",
                        "Correct guess! The word is: atha??\t\twrong guesses left: 2\n",
                        "Correct guess! The word is: athar?\t\twrong guesses left: 2\n",
                        "Correct guess! The word is: atharv\t\twrong guesses left: 2\n",
                        "Congratulations, You won!\n"
                    ]
                }
            ],
            "metadata": {}
        },
        {
            "cell_type": "code",
            "execution_count": 28,
            "source": [
                "play_Hangman()"
            ],
            "outputs": [
                {
                    "output_type": "stream",
                    "name": "stdout",
                    "text": [
                        "Welcome to Hangman: 2021\n",
                        "Your word is: ???????\n",
                        "You can make at most 2 wrong guesses\n",
                        "Please enter only one character at a time\n",
                        "Correct guess! The word is: ?a?????\t\twrong guesses left: 2\n",
                        "m is a wrong guess! The word is: ?a?????\t\t\twrong guesses left: 1\n",
                        "b is a wrong guess! The word is: ?a?????\t\t\twrong guesses left: 0\n",
                        "You lost! the correct word is Sathvik\n"
                    ]
                }
            ],
            "metadata": {}
        },
        {
            "cell_type": "code",
            "execution_count": 30,
            "source": [
                "play_Hangman()"
            ],
            "outputs": [
                {
                    "output_type": "stream",
                    "name": "stdout",
                    "text": [
                        "Welcome to Hangman: 2021\n",
                        "Your word is: ???????\n",
                        "You can make at most 2 wrong guesses\n",
                        "Please enter only one character at a time\n",
                        "Correct guess! The word is: ??????a\t\twrong guesses left: 2\n",
                        "m is a wrong guess! The word is: ??????a\t\t\twrong guesses left: 1\n",
                        "b is a wrong guess! The word is: ??????a\t\t\twrong guesses left: 0\n",
                        "Correct guess! The word is: ??i???a\t\twrong guesses left: 0\n",
                        "Correct guess! The word is: ?ri???a\t\twrong guesses left: 0\n",
                        "Correct guess! The word is: ?ris??a\t\twrong guesses left: 0\n",
                        "You lost! the correct word is Krishna\n"
                    ]
                }
            ],
            "metadata": {}
        },
        {
            "cell_type": "code",
            "execution_count": 31,
            "source": [
                "play_Hangman()"
            ],
            "outputs": [
                {
                    "output_type": "stream",
                    "name": "stdout",
                    "text": [
                        "Welcome to Hangman: 2021\n",
                        "Your word is: ????\n",
                        "You can make at most 1 wrong guesses\n",
                        "Please enter only one character at a time\n",
                        "Correct guess! The word is: ??a?\t\twrong guesses left: 1\n",
                        "m is a wrong guess! The word is: ??a?\t\t\twrong guesses left: 0\n",
                        "You lost! the correct word is Ryan\n"
                    ]
                }
            ],
            "metadata": {}
        },
        {
            "cell_type": "code",
            "execution_count": null,
            "source": [
                "Names=['Aarav','Mohammed','Vihaan','Aditya','Sai','Arjun','Aryan','Reyansh','Vivaan','Krishna','Atharv','Ayaan','Ishaan','Dhruv','Ryan','Arnav','Shaurya','Kabir','Aarush','Rudra','Ayush','Advik','Ansh','Sathvik']\r\n",
                "#A cheat sheet"
            ],
            "outputs": [],
            "metadata": {}
        }
    ],
    "metadata": {
        "orig_nbformat": 4,
        "language_info": {
            "name": "python",
            "version": "3.8.3",
            "mimetype": "text/x-python",
            "codemirror_mode": {
                "name": "ipython",
                "version": 3
            },
            "pygments_lexer": "ipython3",
            "nbconvert_exporter": "python",
            "file_extension": ".py"
        },
        "kernelspec": {
            "name": "python3",
            "display_name": "Python 3.8.3 64-bit"
        },
        "interpreter": {
            "hash": "2db524e06e9f5f4ffedc911c917cb75e12dbc923643829bf417064a77eb14d37"
        }
    },
    "nbformat": 4,
    "nbformat_minor": 2
}