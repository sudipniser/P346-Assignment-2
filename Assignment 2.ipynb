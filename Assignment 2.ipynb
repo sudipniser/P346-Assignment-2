{
    "cells": [
        {
            "cell_type": "code",
            "execution_count": 16,
            "source": [
                "class Matrix:\r\n",
                "    def __init__(self,list_of_lists):\r\n",
                "        for i in range(len(list_of_lists)):\r\n",
                "            if len(list_of_lists[i]) != len(list_of_lists[0]):\r\n",
                "                print(\"undefined matrix\")\r\n",
                "        self.lol=list_of_lists\r\n",
                "    def show(self):\r\n",
                "        for i in self.lol:\r\n",
                "            for j in i:\r\n",
                "                print(str(j)+str(','),end='')\r\n",
                "            print(\"\\n\")\r\n",
                "    def Transpose(self):\r\n",
                "        C=[]\r\n",
                "        for _ in range(len(self.lol[0])):\r\n",
                "            C+=[[]]\r\n",
                "        for i in range(len(self.lol)):\r\n",
                "            for j in range(len(self.lol[i])):\r\n",
                "                C[j].append(self.lol[i][j])\r\n",
                "        return(Matrix(C))\r\n",
                "def Mat_product(X,Y,show=True):\r\n",
                "    if isinstance(X,Matrix) == True and isinstance(Y,Matrix) ==True:\r\n",
                "        if len(X.lol[0])!=len(Y.lol):\r\n",
                "            print('Product not defined')\r\n",
                "        else:\r\n",
                "            m=len(X.lol)\r\n",
                "            n=len(Y.lol[0])\r\n",
                "            Z=[]\r\n",
                "            for _ in range(m):\r\n",
                "                Z+=[[]]\r\n",
                "            for i in range(len(X.lol)):\r\n",
                "                temp=0\r\n",
                "                for l in range(len(Y.lol[0])):\r\n",
                "                    for j in range(len(X.lol[i])):\r\n",
                "                        temp+=X.lol[i][j]*Y.lol[j][l]\r\n",
                "                    Z[i].append(temp)\r\n",
                "                    temp=0\r\n",
                "            if show==True:\r\n",
                "                Matrix(Z).show()\r\n",
                "            return(Matrix(Z))\r\n",
                "    else:\r\n",
                "        print(\"Not a matrix\")"
            ],
            "outputs": [],
            "metadata": {}
        },
        {
            "cell_type": "code",
            "execution_count": 3,
            "source": [
                "f=open(\"A.txt\",\"r\")\r\n",
                "for i in f:\r\n",
                "    print(i)"
            ],
            "outputs": [
                {
                    "output_type": "stream",
                    "name": "stdout",
                    "text": [
                        "2,3,4\n",
                        "\n",
                        "1,0,0,\n"
                    ]
                }
            ],
            "metadata": {}
        },
        {
            "cell_type": "code",
            "execution_count": 18,
            "source": [
                "def read_matrix(file_name):\r\n",
                "    file=open(str(file_name),\"r\")\r\n",
                "    M=[[]]\r\n",
                "    temp=''\r\n",
                "    i=0\r\n",
                "    for j in file:\r\n",
                "        for k in j:\r\n",
                "            if k=='\\n':\r\n",
                "                M[i]+=[int(temp)]\r\n",
                "                temp=''\r\n",
                "                i+=1\r\n",
                "                M+=[[]]\r\n",
                "            elif k!=',' and k!='\\n':\r\n",
                "                temp+=k\r\n",
                "            elif k==',':\r\n",
                "                M[i]+=[int(temp)]\r\n",
                "                temp=''\r\n",
                "    return(M)\r\n",
                "    "
            ],
            "outputs": [],
            "metadata": {}
        },
        {
            "cell_type": "code",
            "execution_count": 19,
            "source": [
                "'''\r\n",
                "def rd_matrx(file_name):\r\n",
                "    from csv import reader\r\n",
                "    with open(str(file_name), 'r') as read_obj:\r\n",
                "        csv_reader = reader(read_obj)\r\n",
                "        list_of_rows = list(csv_reader)\r\n",
                "        return(list_of_rows)\r\n",
                "'''"
            ],
            "outputs": [
                {
                    "output_type": "execute_result",
                    "data": {
                        "text/plain": [
                            "\"\\ndef rd_matrx(file_name):\\n    from csv import reader\\n    with open(str(file_name), 'r') as read_obj:\\n        csv_reader = reader(read_obj)\\n        list_of_rows = list(csv_reader)\\n        return(list_of_rows)\\n\""
                        ]
                    },
                    "metadata": {},
                    "execution_count": 19
                }
            ],
            "metadata": {}
        },
        {
            "cell_type": "code",
            "execution_count": 20,
            "source": [
                "read_matrix('A.txt')"
            ],
            "outputs": [
                {
                    "output_type": "execute_result",
                    "data": {
                        "text/plain": [
                            "[[2, 3, 4], [1, 0, 0]]"
                        ]
                    },
                    "metadata": {},
                    "execution_count": 20
                }
            ],
            "metadata": {}
        },
        {
            "cell_type": "code",
            "execution_count": 21,
            "source": [
                "read_matrix('B.txt')"
            ],
            "outputs": [
                {
                    "output_type": "execute_result",
                    "data": {
                        "text/plain": [
                            "[[0, 1000], [1, 100], [0, 10]]"
                        ]
                    },
                    "metadata": {},
                    "execution_count": 21
                }
            ],
            "metadata": {}
        },
        {
            "cell_type": "code",
            "execution_count": 22,
            "source": [
                "a=Matrix(read_matrix('A.txt'))\r\n",
                "b=Matrix(read_matrix('B.txt'))"
            ],
            "outputs": [],
            "metadata": {}
        },
        {
            "cell_type": "code",
            "execution_count": 23,
            "source": [
                "c=Matrix([[ 0,  1,  2,  3,  4],\r\n",
                "       [ 5,  6,  7,  8,  9],\r\n",
                "       [10, 11, 12, 13, 14],\r\n",
                "       [15, 16, 17, 18, 19],\r\n",
                "       [20, 21, 22, 23, 24]])"
            ],
            "outputs": [],
            "metadata": {}
        },
        {
            "cell_type": "code",
            "execution_count": 24,
            "source": [
                "c.show()"
            ],
            "outputs": [
                {
                    "output_type": "stream",
                    "name": "stdout",
                    "text": [
                        "0,1,2,3,4,\n",
                        "\n",
                        "5,6,7,8,9,\n",
                        "\n",
                        "10,11,12,13,14,\n",
                        "\n",
                        "15,16,17,18,19,\n",
                        "\n",
                        "20,21,22,23,24,\n",
                        "\n"
                    ]
                }
            ],
            "metadata": {}
        },
        {
            "cell_type": "code",
            "execution_count": 29,
            "source": [
                "c.Transpose().show()"
            ],
            "outputs": [
                {
                    "output_type": "stream",
                    "name": "stdout",
                    "text": [
                        "0,5,10,15,20,\n",
                        "\n",
                        "1,6,11,16,21,\n",
                        "\n",
                        "2,7,12,17,22,\n",
                        "\n",
                        "3,8,13,18,23,\n",
                        "\n",
                        "4,9,14,19,24,\n",
                        "\n"
                    ]
                }
            ],
            "metadata": {}
        },
        {
            "cell_type": "code",
            "execution_count": 26,
            "source": [
                "b.Transpose()"
            ],
            "outputs": [
                {
                    "output_type": "execute_result",
                    "data": {
                        "text/plain": [
                            "<__main__.Matrix at 0x1c090f85970>"
                        ]
                    },
                    "metadata": {},
                    "execution_count": 26
                }
            ],
            "metadata": {}
        },
        {
            "cell_type": "code",
            "execution_count": 27,
            "source": [
                "Mat_product(a,b)"
            ],
            "outputs": [
                {
                    "output_type": "stream",
                    "name": "stdout",
                    "text": [
                        "3,2340,\n",
                        "\n",
                        "0,1000,\n",
                        "\n"
                    ]
                },
                {
                    "output_type": "execute_result",
                    "data": {
                        "text/plain": [
                            "<__main__.Matrix at 0x1c090f85b80>"
                        ]
                    },
                    "metadata": {},
                    "execution_count": 27
                }
            ],
            "metadata": {}
        },
        {
            "cell_type": "code",
            "execution_count": 28,
            "source": [
                "class myComplex:\r\n",
                "    def __init__(self,x,y):\r\n",
                "        self.real=x\r\n",
                "        self.imaginary=y\r\n",
                "    def conjugate(self):\r\n",
                "        return(myComplex(self.real,-self.imaginary))\r\n",
                "    def modulus(self):\r\n",
                "        return((self.real**2+self.imaginary**2)**(1/2))\r\n",
                "    def phase(self):\r\n",
                "        import math\r\n",
                "        theta=math.atan(abs(self.imaginary/self.real))\r\n",
                "        if self.real>0 and self.imaginary>0:\r\n",
                "            return(theta)\r\n",
                "        elif self.real<0 and self.imaginary>0:\r\n",
                "            return(math.pi-theta)\r\n",
                "        elif self.real<0 and self.imaginary>0:\r\n",
                "            return(-theta)\r\n",
                "        elif self.real<0 and self.imaginary>0:\r\n",
                "            return(theta-math.pi)"
            ],
            "outputs": [],
            "metadata": {}
        }
    ],
    "metadata": {
        "orig_nbformat": 4,
        "language_info": {
            "name": "python",
            "version": "3.8.3",
            "mimetype": "text/x-python",
            "codemirror_mode": {
                "name": "ipython",
                "version": 3
            },
            "pygments_lexer": "ipython3",
            "nbconvert_exporter": "python",
            "file_extension": ".py"
        },
        "kernelspec": {
            "name": "python3",
            "display_name": "Python 3.8.3 64-bit"
        },
        "interpreter": {
            "hash": "2db524e06e9f5f4ffedc911c917cb75e12dbc923643829bf417064a77eb14d37"
        }
    },
    "nbformat": 4,
    "nbformat_minor": 2
}